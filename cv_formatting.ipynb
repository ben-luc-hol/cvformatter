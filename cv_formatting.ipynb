{
 "cells": [
  {
   "cell_type": "code",
   "id": "initial_id",
   "metadata": {
    "collapsed": true,
    "ExecuteTime": {
     "end_time": "2024-09-27T15:54:11.234803Z",
     "start_time": "2024-09-27T15:54:11.091100Z"
    }
   },
   "source": [
    "from cv_formatter import ResumeFormatter\n",
    "import os"
   ],
   "outputs": [],
   "execution_count": 2
  },
  {
   "metadata": {
    "ExecuteTime": {
     "end_time": "2024-09-27T15:54:11.390210Z",
     "start_time": "2024-09-27T15:54:11.365440Z"
    }
   },
   "cell_type": "code",
   "outputs": [],
   "execution_count": 3,
   "source": [
    "rf = ResumeFormatter()"
   ],
   "id": "6a2d460e6d9d4bbe"
  },
  {
   "cell_type": "code",
   "outputs": [],
   "source": [
    "aei = (f\"\"\"\n",
    "(Senior) Research/Data Analyst, Housing Center\n",
    "Job LocationsUS-DC-Washington\n",
    "Job ID 2024-2214 # of Openings 4 Category Domestic Policy\n",
    "Overview\n",
    "The Housing Center at the American Enterprise Institute (AEI) seeks a full-time, in-person (senior) research/data analyst to assist in creating, managing, and analyzing large datasets to derive insights and inform US housing policy.\n",
    "\n",
    " \n",
    "\n",
    "The center conducts cutting-edge research and publishes an unprecedented set of risk metrics to improve the operation of housing markets, mortgage lending practices, and housing policy. Working directly with the center’s codirectors on the full range of the center’s initiatives, this role encompasses data science, business intelligence, and statistical programming. The anticipated start date for this position is as soon as possible.\n",
    "\n",
    " \n",
    "\n",
    "Responsibilities will include creating, cleaning, and analyzing new datasets; conducting statistical analyses; and helping draft research papers and other materials. The weight of these responsibilities may vary depending on whether the position is filled by a (senior) research analyst or (senior) data analyst. A (senior) research analyst will focus on researching and writing, and a (senior) data analyst will focus on analyzing data.\n",
    "\n",
    " \n",
    "\n",
    "This position requires superior technical and quantitative skills, the capacity to develop additional skills, and high proficiencies in writing, research, communication, and organization. The ideal candidate will have a demonstrated interest in and knowledge of housing policy. Creativity, attention to detail, and the ability to multitask with minimal supervision are essential. A master’s degree in public policy, data analytics, or other quantitative methods field is preferred.\n",
    "\n",
    " \n",
    "\n",
    "Final title and salary are commensurate with experience. Please outline in your cover letter which title you feel your qualifications most accurately represent.\n",
    "\n",
    " \n",
    "\n",
    "AEI offers a stimulating and harmonious work environment and excellent benefits. Applicants must submit a cover letter demonstrating their interest in housing policy and noting quantitative and technical experience and skills, a resume, an unofficial academic transcript, and a writing sample with the online application. Finalists will be asked to pass a brief coding test.\n",
    "\n",
    "Responsibilities\n",
    "Research/Data Analyst\n",
    "Perform statistical analyses and modeling according to detailed specifications to support small studies and fulfill ad-hoc requests.\n",
    "Combine processes, techniques, and methodologies from various fields to perform predictive and statistical analyses on large and often disparate datasets.\n",
    "Create data listings, tabulations, graphs, and figures for studies and reports. Integrate data from various sources as required.\n",
    "Assemble financial, workforce, technological, economic, statistical, and other operational datasets to inform comparative and predictive analyses of housing issues.\n",
    "Examine data for trends and anomalies to draw actionable conclusions.\n",
    "Forecast trends and derive key indicators.\n",
    "Senior Research/Data Analyst\n",
    "Using statistical software, perform statistical analyses and modeling to support small to large studies and fulfill ad-hoc requests.\n",
    "Develop models, algorithms, and metrics to facilitate data interpretation. Work with various AEI employees to present and operationalize data to achieve accessible insights.\n",
    "Combine processes, techniques, and methodologies from various fields to perform predictive and statistical analyses and modeling on large and often disparate datasets.\n",
    "Create data listings, tabulations, graphs, and figures for studies and reports.\n",
    "Examine data for trends and anomalies to draw actionable conclusions.\n",
    "Forecast trends and derive key indicators.\n",
    "Integrate data from various sources as required.\n",
    "Take action to solve problems and issues that routinely arise in areas of assigned responsibility.\n",
    "Apply in-depth, professional knowledge to independently solve a full range of complex problems.\n",
    "Physical requirements and working conditions at AEI:\n",
    "\n",
    "The employee is regularly expected to stand, sit, talk, hear, and use hands and fingers to operate a computer, telephone, and keyboard. This job requires close vision abilities due to computer work.\n",
    "The employee must be able to lift up to 30 pounds at times.\n",
    "The employee must be able to work in a confined area.\n",
    "Moderate noise (e.g., from computers, phone, printers, and light traffic) is expected.\n",
    "Reasonable accommodations may be made to enable individuals with disabilities to perform the essential responsibilities associated with this position.\n",
    "Qualifications\n",
    "Required \n",
    "Research/Data Analyst: a master’s or bachelor’s degree and at least two years of work experience\n",
    "Senior Research/Data Analyst: a master’s degree and at least one year of work experience or a bachelor’s degree and at least three years of work experience\n",
    "A degree in economics, finance, real estate, public policy, computer science, or a related discipline\n",
    "Knowledge of Microsoft Excel\n",
    "Fluency in data analysis tools and languages including Stata, R, and/or Python\n",
    "Strong communication and organizational skills\n",
    "A demonstrated interest in housing and public policy research\n",
    "A strong understanding of statistical methods and data science techniques\n",
    "Strong problem-solving skills and the ability to learn new skills\n",
    "Knowledge of data governance and compliance standards\n",
    "The capacity to meticulously document all data processes, methodologies, and analyses\n",
    "An ambitious outlook, comfort with working independently, and readiness to learn new skills as projects demand\n",
    "The ability to manage multiple projects and meet deadlines\n",
    "The ability to work effectively in a fast-paced and team-oriented environment\n",
    "Desired\n",
    "Experience with SQL (Postgres, MySQL, DBT, DuckDB) and ETL/ELT data engineer workflows\n",
    "Proficiency with geospatial analysis and visualization, particularly with web mapping tools, such as Leaflet, Mapbox, Deck.gl, or ArcGIS/QGIS\n",
    "Experience with web development using Javascript, Typescript, NodeJS, or PHP\n",
    "Benefits\n",
    "\n",
    "AEI offers generous benefits, including 18 days of paid leave (15 days of paid annual leave and 3 personal/floating holidays); 12 days of paid sick leave; paid family leave; medical and dental coverage, in addition to a health savings account; medical and dependent care FSA; a tuition assistance program of up to $5,200; life and disability insurance at no cost to employees; and a 403b retirement plan with a 12% contribution from AEI, among other benefits. For more information, you can see a full summary of our benefits here.\n",
    "\n",
    " \n",
    "\n",
    "Compensation is based on a number of factors, including but not limited to: scope and responsibilities of the position; a candidate's full-time, applicable work experience; key skills and qualifications; as well as internal and external market considerations. The salary range for this full-time, exempt position is $65,000 - $85,000. Salary is just one component of AEI’s total compensation package for employees.\n",
    "\n",
    "Apply for this job online\n",
    "Email this job to a friend\n",
    "Share on your newsfeed\n",
    "Need help finding the right job?\n",
    "\n",
    "\"\"\")\n",
    "\n",
    "aei_additional = \"PLEASE OUTPUT A DRAFT COVER LETTER FOR THIS POSITION INSTEAD OF A RESUME!!!\""
   ],
   "metadata": {
    "collapsed": false,
    "ExecuteTime": {
     "end_time": "2024-09-26T23:30:34.426965Z",
     "start_time": "2024-09-26T23:30:34.421122Z"
    }
   },
   "id": "ffcd977e6137a60c",
   "execution_count": 8
  },
  {
   "cell_type": "code",
   "outputs": [],
   "source": [
    "cl_aei  = rf.generate_resume(aei, aei_additional)"
   ],
   "metadata": {
    "collapsed": false,
    "ExecuteTime": {
     "end_time": "2024-09-26T23:30:48.548169Z",
     "start_time": "2024-09-26T23:30:36.806420Z"
    }
   },
   "id": "858c9f55da5bed71",
   "execution_count": 9
  },
  {
   "cell_type": "code",
   "outputs": [
    {
     "name": "stdout",
     "output_type": "stream",
     "text": [
      "Here's a tailored resume for the (Senior) Research/Data Analyst position at the AEI Housing Center:\n",
      "\n",
      "<RESUME>\n",
      "Ben Holden\n",
      "ben.luc.holden@gmail.com | (555) 123-4567 | Boston, MA\n",
      "LinkedIn: linkedin.com/in/benholden\n",
      "\n",
      "PROFESSIONAL SUMMARY\n",
      "Data scientist and analyst with extensive experience in housing policy research, advanced statistical analysis, and data engineering. Proven track record of developing innovative data solutions and conducting policy-relevant research. Skilled in Python, R, and SQL, with expertise in ETL processes, geospatial analysis, and machine learning applications for housing market insights.\n",
      "\n",
      "WORK EXPERIENCE\n",
      "Senior Data Scientist | ArtifexAI | Boston, MA | February 2024 - Present\n",
      "• Designed and implemented scalable ETL pipelines for processing diverse housing-related data, including local municipal permits and property records\n",
      "• Developed a climate and extreme weather risk algorithm for geographic locations, integrating with mapping APIs to provide location-specific analytics\n",
      "• Created a source-agnostic Python class to standardize and classify local government permit records, enabling cross-jurisdictional analysis of housing trends\n",
      "• Conducted in-depth analyses on property ownership and rental trends by matching voter registration data to property records\n",
      "• Leveraged LLMs and vector databases to enhance data processing capabilities for unstructured housing policy documents\n",
      "\n",
      "Data Analyst | Cooperative Institute for Research in Environmental Sciences (CU Boulder) | Boulder, CO | March 2022 - December 2023\n",
      "• Automated markdown reports for environmental science projects, including public survey data analysis on water resource management in the American West\n",
      "• Conducted statistical tests on ordinal and numeric data, providing insights for environmental policy decisions\n",
      "• Developed association rule mining tools for unstructured survey response analyses, improving research output efficiency\n",
      "• Utilized R and Python for data analysis, visualization (Plotly), and statistical modeling\n",
      "\n",
      "Research Assistant | Beacon Hill Institute for Public Policy Research | Boston, MA | January 2020 - May 2020\n",
      "• Performed econometric forecasting to project outcomes of various policy scenarios, including changes to local energy and tax policies\n",
      "• Conducted statistical tests to evaluate potential impacts of state-level public policy proposals\n",
      "• Utilized R and Stata for data analysis and economic modeling\n",
      "\n",
      "Research Assistant | Mercatus Center at George Mason University | Arlington, VA | May 2019 - August 2019\n",
      "• Contributed to a comprehensive white paper on American workforce trends and automation impacts\n",
      "• Analyzed labor market data from Census Bureau and Bureau of Labor Statistics to study policy implications\n",
      "• Used Excel and R for data analysis, and Datawrapper for visualization\n",
      "\n",
      "EDUCATION\n",
      "Master of Science in Data Science | University of Colorado Boulder | December 2023\n",
      "Relevant Coursework: Data Structures and Algorithms, Statistics, Machine Learning, Data Mining, R for Data Science\n",
      "\n",
      "Bachelor of Science in Economics, Political Science, & Philosophy | Suffolk University | May 2020\n",
      "• Graduated Magna Cum Laude\n",
      "• President of Suffolk Economics Association (Senior Year)\n",
      "\n",
      "SKILLS\n",
      "• Programming: Python, R, SQL (Postgres, MySQL)\n",
      "• Data Analysis: Pandas, NumPy, Scikit-learn, Statsmodels\n",
      "• Data Visualization: Matplotlib, Plotly, Mapbox\n",
      "• Cloud Technologies: AWS (S3, RDS)\n",
      "• Machine Learning: Regression, Classification, Clustering, NLP\n",
      "• Version Control: Git\n",
      "• Statistical Analysis: Hypothesis Testing, Regression Analysis, Time Series Analysis\n",
      "• Geospatial Analysis: QGIS, Leaflet\n",
      "• Data Engineering: ETL/ELT workflows, Data Lake implementation\n",
      "\n",
      "PROJECTS\n",
      "Housing Policy ETL Pipeline | ArtifexAI\n",
      "• Designed and implemented a complex ETL process to ingest, process, and structure local government records related to housing policies\n",
      "• Utilized AWS S3 for data lake storage and implemented vector databases for efficient data retrieval\n",
      "• Integrated LLM APIs to enhance unstructured data processing capabilities\n",
      "\n",
      "Climate Risk Assessment Tool | ArtifexAI\n",
      "• Developed an algorithm to approximate climate and extreme weather risks for specific geographic locations\n",
      "• Integrated geospatial methods and mapping APIs to provide location-specific risk analytics for housing markets\n",
      "\n",
      "</RESUME>\n"
     ]
    }
   ],
   "source": [
    "print(resume_aei)"
   ],
   "metadata": {
    "collapsed": false,
    "ExecuteTime": {
     "end_time": "2024-09-26T21:49:43.543145Z",
     "start_time": "2024-09-26T21:49:43.540989Z"
    }
   },
   "id": "23dd9edc91fa4e63",
   "execution_count": 6
  },
  {
   "cell_type": "code",
   "outputs": [
    {
     "name": "stdout",
     "output_type": "stream",
     "text": [
      "Certainly! I'll draft a cover letter for the (Senior) Research/Data Analyst position at the Housing Center of the American Enterprise Institute (AEI). This cover letter will highlight Ben Holden's relevant experience, skills, and interest in housing policy.\n",
      "\n",
      "<COVER LETTER>\n",
      "\n",
      "Ben Holden\n",
      "ben.luc.holden@gmail.com | Boston, MA\n",
      "\n",
      "[Date]\n",
      "\n",
      "Housing Center\n",
      "American Enterprise Institute\n",
      "Washington, DC\n",
      "\n",
      "Dear Hiring Manager,\n",
      "\n",
      "I am writing to express my strong interest in the (Senior) Research/Data Analyst position at the Housing Center of the American Enterprise Institute. With my background in data science, economics, and public policy research, coupled with my passion for leveraging data to inform policy decisions, I believe I would be a valuable addition to your team.\n",
      "\n",
      "My academic and professional experiences align closely with the requirements of this role:\n",
      "\n",
      "1. Data Analysis and Programming Skills: As a recent graduate with an MS in Data Science from the University of Colorado, I have extensive experience with statistical analysis tools and programming languages, including R, Python, and SQL. In my current role as a Senior Data Scientist at ArtifexAI, I've designed and implemented complex ETL pipelines and developed sophisticated data processing algorithms, demonstrating my ability to handle large, diverse datasets - a key requirement for this position.\n",
      "\n",
      "2. Housing Policy Interest: My work at ArtifexAI has focused on developing AI-driven solutions for urban planning and development, giving me valuable insights into housing markets and related policy issues. This experience, combined with my economics background, has fostered a deep interest in housing policy and its broader economic implications.\n",
      "\n",
      "3. Research and Analysis: During my time at the Cooperative Institute for Research in Environmental Sciences, I conducted various statistical analyses and developed automated reporting systems, showcasing my ability to derive insights from complex data and communicate findings effectively.\n",
      "\n",
      "4. Policy Research Experience: My internships at the Beacon Hill Institute and the Mercatus Center provided me with valuable experience in policy research, including analyzing labor market data and studying the impacts of automation on various economic sectors.\n",
      "\n",
      "5. Technical Proficiency: I am proficient in data visualization tools, cloud technologies (particularly AWS), and have experience with geospatial analysis and web mapping tools. I've also worked with vector databases and implemented machine learning algorithms, including LLMs for advanced NLP tasks.\n",
      "\n",
      "6. Communication and Teamwork: Throughout my career, I've collaborated with diverse teams and stakeholders, presented research findings, and contributed to white papers and reports. These experiences have honed my ability to communicate complex ideas to both technical and non-technical audiences.\n",
      "\n",
      "I am particularly excited about the opportunity to contribute to the Housing Center's mission of improving housing markets and informing policy through data-driven research. The center's focus on creating and analyzing large datasets to derive actionable insights aligns perfectly with my skills and interests.\n",
      "\n",
      "Given my qualifications and experience, I believe I would be best suited for the Senior Research/Data Analyst position. However, I am open to discussion regarding the most appropriate role based on your needs.\n",
      "\n",
      "Thank you for your consideration. I look forward to the opportunity to discuss how my skills and experiences can contribute to the important work of the Housing Center at AEI.\n",
      "\n",
      "Sincerely,\n",
      "Ben Holden\n",
      "\n",
      "</COVER LETTER>\n"
     ]
    }
   ],
   "source": [
    "print(cl_aei)"
   ],
   "metadata": {
    "collapsed": false,
    "ExecuteTime": {
     "end_time": "2024-09-26T23:32:30.063492Z",
     "start_time": "2024-09-26T23:32:30.060669Z"
    }
   },
   "id": "f3fb5373a4bb0d1",
   "execution_count": 10
  },
  {
   "cell_type": "code",
   "outputs": [],
   "source": [
    "bio_wellfound = rf.generate_bio(purpose=\"Wellfound, a jobs board site for startup work. This needs to be geared towards startup work and showcase technical skills only.\")"
   ],
   "metadata": {
    "collapsed": false,
    "ExecuteTime": {
     "end_time": "2024-09-27T15:55:54.537225Z",
     "start_time": "2024-09-27T15:55:49.424426Z"
    }
   },
   "id": "1f6fe69433c35b82",
   "execution_count": 7
  },
  {
   "cell_type": "code",
   "outputs": [
    {
     "name": "stdout",
     "output_type": "stream",
     "text": [
      "Here's a bio for Wellfound focused on your technical skills and startup-relevant experience:\n",
      "\n",
      "Data scientist and engineer with a passion for building scalable, AI-driven solutions. Experienced in developing end-to-end data pipelines and machine learning models that drive business value. \n",
      "\n",
      "Key technical skills:\n",
      "• Python for data processing, analysis, and ML\n",
      "• AWS (S3, EC2) for cloud-based data solutions\n",
      "• SQL and NoSQL databases (PostgreSQL, Pinecone)\n",
      "• ETL pipeline design and implementation\n",
      "• Machine learning and NLP, including work with LLMs\n",
      "• Data visualization (Plotly, Matplotlib)\n",
      "\n",
      "At ArtifexAI, I designed and implemented a source-agnostic ETL pipeline that standardizes and analyzes municipal permit data across jurisdictions - a first in the industry. I also developed an innovative climate risk algorithm utilizing geospatial methods and external APIs.\n",
      "\n",
      "My experience spans from early-stage startups to research institutions, always focused on leveraging data to solve complex problems. I thrive in fast-paced environments and am eager to contribute to ambitious projects that push the boundaries of what's possible with data and AI.\n",
      "\n",
      "Looking to join a dynamic startup where I can apply my technical expertise to drive product development and business growth.\n"
     ]
    }
   ],
   "source": [
    "print(bio_wellfound)"
   ],
   "metadata": {
    "collapsed": false,
    "ExecuteTime": {
     "end_time": "2024-09-27T15:55:54.547636Z",
     "start_time": "2024-09-27T15:55:54.543662Z"
    }
   },
   "id": "dc1b946155cd9524",
   "execution_count": 8
  },
  {
   "cell_type": "code",
   "outputs": [],
   "source": [],
   "metadata": {
    "collapsed": false
   },
   "id": "2b188493a450b36f"
  }
 ],
 "metadata": {
  "kernelspec": {
   "display_name": "Python 3",
   "language": "python",
   "name": "python3"
  },
  "language_info": {
   "codemirror_mode": {
    "name": "ipython",
    "version": 2
   },
   "file_extension": ".py",
   "mimetype": "text/x-python",
   "name": "python",
   "nbconvert_exporter": "python",
   "pygments_lexer": "ipython2",
   "version": "2.7.6"
  }
 },
 "nbformat": 4,
 "nbformat_minor": 5
}
