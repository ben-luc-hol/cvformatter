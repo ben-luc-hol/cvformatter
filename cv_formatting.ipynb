{
 "cells": [
  {
   "cell_type": "code",
   "id": "initial_id",
   "metadata": {
    "collapsed": true,
    "ExecuteTime": {
     "end_time": "2024-08-29T13:29:23.972632Z",
     "start_time": "2024-08-29T13:29:18.798187Z"
    }
   },
   "source": "!pip install anthropic",
   "outputs": [
    {
     "name": "stdout",
     "output_type": "stream",
     "text": [
      "Collecting anthropic\r\n",
      "  Downloading anthropic-0.34.1-py3-none-any.whl.metadata (18 kB)\r\n",
      "Requirement already satisfied: anyio<5,>=3.5.0 in /Users/ben-holden-artifex/opt/anaconda3/envs/artifex-virtual-1/lib/python3.11/site-packages (from anthropic) (4.2.0)\r\n",
      "Collecting distro<2,>=1.7.0 (from anthropic)\r\n",
      "  Using cached distro-1.9.0-py3-none-any.whl.metadata (6.8 kB)\r\n",
      "Collecting httpx<1,>=0.23.0 (from anthropic)\r\n",
      "  Downloading httpx-0.27.2-py3-none-any.whl.metadata (7.1 kB)\r\n",
      "Collecting jiter<1,>=0.4.0 (from anthropic)\r\n",
      "  Downloading jiter-0.5.0-cp311-cp311-macosx_11_0_arm64.whl.metadata (3.6 kB)\r\n",
      "Collecting pydantic<3,>=1.9.0 (from anthropic)\r\n",
      "  Downloading pydantic-2.8.2-py3-none-any.whl.metadata (125 kB)\r\n",
      "\u001B[2K     \u001B[90m━━━━━━━━━━━━━━━━━━━━━━━━━━━━━━━━━━━━━━━\u001B[0m \u001B[32m125.2/125.2 kB\u001B[0m \u001B[31m3.8 MB/s\u001B[0m eta \u001B[36m0:00:00\u001B[0m\r\n",
      "\u001B[?25hRequirement already satisfied: sniffio in /Users/ben-holden-artifex/opt/anaconda3/envs/artifex-virtual-1/lib/python3.11/site-packages (from anthropic) (1.3.0)\r\n",
      "Collecting tokenizers>=0.13.0 (from anthropic)\r\n",
      "  Downloading tokenizers-0.20.0-cp311-cp311-macosx_11_0_arm64.whl.metadata (6.7 kB)\r\n",
      "Requirement already satisfied: typing-extensions<5,>=4.7 in /Users/ben-holden-artifex/opt/anaconda3/envs/artifex-virtual-1/lib/python3.11/site-packages (from anthropic) (4.11.0)\r\n",
      "Requirement already satisfied: idna>=2.8 in /Users/ben-holden-artifex/opt/anaconda3/envs/artifex-virtual-1/lib/python3.11/site-packages (from anyio<5,>=3.5.0->anthropic) (3.7)\r\n",
      "Requirement already satisfied: certifi in /Users/ben-holden-artifex/opt/anaconda3/envs/artifex-virtual-1/lib/python3.11/site-packages (from httpx<1,>=0.23.0->anthropic) (2024.6.2)\r\n",
      "Collecting httpcore==1.* (from httpx<1,>=0.23.0->anthropic)\r\n",
      "  Using cached httpcore-1.0.5-py3-none-any.whl.metadata (20 kB)\r\n",
      "Collecting h11<0.15,>=0.13 (from httpcore==1.*->httpx<1,>=0.23.0->anthropic)\r\n",
      "  Using cached h11-0.14.0-py3-none-any.whl.metadata (8.2 kB)\r\n",
      "Collecting annotated-types>=0.4.0 (from pydantic<3,>=1.9.0->anthropic)\r\n",
      "  Using cached annotated_types-0.7.0-py3-none-any.whl.metadata (15 kB)\r\n",
      "Collecting pydantic-core==2.20.1 (from pydantic<3,>=1.9.0->anthropic)\r\n",
      "  Downloading pydantic_core-2.20.1-cp311-cp311-macosx_11_0_arm64.whl.metadata (6.6 kB)\r\n",
      "Collecting huggingface-hub<1.0,>=0.16.4 (from tokenizers>=0.13.0->anthropic)\r\n",
      "  Downloading huggingface_hub-0.24.6-py3-none-any.whl.metadata (13 kB)\r\n",
      "Collecting filelock (from huggingface-hub<1.0,>=0.16.4->tokenizers>=0.13.0->anthropic)\r\n",
      "  Downloading filelock-3.15.4-py3-none-any.whl.metadata (2.9 kB)\r\n",
      "Collecting fsspec>=2023.5.0 (from huggingface-hub<1.0,>=0.16.4->tokenizers>=0.13.0->anthropic)\r\n",
      "  Downloading fsspec-2024.6.1-py3-none-any.whl.metadata (11 kB)\r\n",
      "Requirement already satisfied: packaging>=20.9 in /Users/ben-holden-artifex/opt/anaconda3/envs/artifex-virtual-1/lib/python3.11/site-packages (from huggingface-hub<1.0,>=0.16.4->tokenizers>=0.13.0->anthropic) (23.2)\r\n",
      "Requirement already satisfied: pyyaml>=5.1 in /Users/ben-holden-artifex/opt/anaconda3/envs/artifex-virtual-1/lib/python3.11/site-packages (from huggingface-hub<1.0,>=0.16.4->tokenizers>=0.13.0->anthropic) (6.0.1)\r\n",
      "Requirement already satisfied: requests in /Users/ben-holden-artifex/opt/anaconda3/envs/artifex-virtual-1/lib/python3.11/site-packages (from huggingface-hub<1.0,>=0.16.4->tokenizers>=0.13.0->anthropic) (2.32.2)\r\n",
      "Requirement already satisfied: tqdm>=4.42.1 in /Users/ben-holden-artifex/opt/anaconda3/envs/artifex-virtual-1/lib/python3.11/site-packages (from huggingface-hub<1.0,>=0.16.4->tokenizers>=0.13.0->anthropic) (4.66.4)\r\n",
      "Requirement already satisfied: charset-normalizer<4,>=2 in /Users/ben-holden-artifex/opt/anaconda3/envs/artifex-virtual-1/lib/python3.11/site-packages (from requests->huggingface-hub<1.0,>=0.16.4->tokenizers>=0.13.0->anthropic) (2.0.4)\r\n",
      "Requirement already satisfied: urllib3<3,>=1.21.1 in /Users/ben-holden-artifex/opt/anaconda3/envs/artifex-virtual-1/lib/python3.11/site-packages (from requests->huggingface-hub<1.0,>=0.16.4->tokenizers>=0.13.0->anthropic) (2.2.1)\r\n",
      "Downloading anthropic-0.34.1-py3-none-any.whl (891 kB)\r\n",
      "\u001B[2K   \u001B[90m━━━━━━━━━━━━━━━━━━━━━━━━━━━━━━━━━━━━━━━━\u001B[0m \u001B[32m891.5/891.5 kB\u001B[0m \u001B[31m13.2 MB/s\u001B[0m eta \u001B[36m0:00:00\u001B[0ma \u001B[36m0:00:01\u001B[0m\r\n",
      "\u001B[?25hUsing cached distro-1.9.0-py3-none-any.whl (20 kB)\r\n",
      "Downloading httpx-0.27.2-py3-none-any.whl (76 kB)\r\n",
      "\u001B[2K   \u001B[90m━━━━━━━━━━━━━━━━━━━━━━━━━━━━━━━━━━━━━━━━\u001B[0m \u001B[32m76.4/76.4 kB\u001B[0m \u001B[31m8.9 MB/s\u001B[0m eta \u001B[36m0:00:00\u001B[0m\r\n",
      "\u001B[?25hUsing cached httpcore-1.0.5-py3-none-any.whl (77 kB)\r\n",
      "Downloading jiter-0.5.0-cp311-cp311-macosx_11_0_arm64.whl (299 kB)\r\n",
      "\u001B[2K   \u001B[90m━━━━━━━━━━━━━━━━━━━━━━━━━━━━━━━━━━━━━━━━\u001B[0m \u001B[32m299.3/299.3 kB\u001B[0m \u001B[31m11.9 MB/s\u001B[0m eta \u001B[36m0:00:00\u001B[0m\r\n",
      "\u001B[?25hDownloading pydantic-2.8.2-py3-none-any.whl (423 kB)\r\n",
      "\u001B[2K   \u001B[90m━━━━━━━━━━━━━━━━━━━━━━━━━━━━━━━━━━━━━━━━\u001B[0m \u001B[32m423.9/423.9 kB\u001B[0m \u001B[31m12.0 MB/s\u001B[0m eta \u001B[36m0:00:00\u001B[0m\r\n",
      "\u001B[?25hDownloading pydantic_core-2.20.1-cp311-cp311-macosx_11_0_arm64.whl (1.8 MB)\r\n",
      "\u001B[2K   \u001B[90m━━━━━━━━━━━━━━━━━━━━━━━━━━━━━━━━━━━━━━━━\u001B[0m \u001B[32m1.8/1.8 MB\u001B[0m \u001B[31m16.5 MB/s\u001B[0m eta \u001B[36m0:00:00\u001B[0ma \u001B[36m0:00:01\u001B[0m\r\n",
      "\u001B[?25hDownloading tokenizers-0.20.0-cp311-cp311-macosx_11_0_arm64.whl (2.5 MB)\r\n",
      "\u001B[2K   \u001B[90m━━━━━━━━━━━━━━━━━━━━━━━━━━━━━━━━━━━━━━━━\u001B[0m \u001B[32m2.5/2.5 MB\u001B[0m \u001B[31m20.4 MB/s\u001B[0m eta \u001B[36m0:00:00\u001B[0ma \u001B[36m0:00:01\u001B[0m\r\n",
      "\u001B[?25hUsing cached annotated_types-0.7.0-py3-none-any.whl (13 kB)\r\n",
      "Downloading huggingface_hub-0.24.6-py3-none-any.whl (417 kB)\r\n",
      "\u001B[2K   \u001B[90m━━━━━━━━━━━━━━━━━━━━━━━━━━━━━━━━━━━━━━━━\u001B[0m \u001B[32m417.5/417.5 kB\u001B[0m \u001B[31m21.0 MB/s\u001B[0m eta \u001B[36m0:00:00\u001B[0m\r\n",
      "\u001B[?25hDownloading fsspec-2024.6.1-py3-none-any.whl (177 kB)\r\n",
      "\u001B[2K   \u001B[90m━━━━━━━━━━━━━━━━━━━━━━━━━━━━━━━━━━━━━━━━\u001B[0m \u001B[32m177.6/177.6 kB\u001B[0m \u001B[31m15.7 MB/s\u001B[0m eta \u001B[36m0:00:00\u001B[0m\r\n",
      "\u001B[?25hUsing cached h11-0.14.0-py3-none-any.whl (58 kB)\r\n",
      "Downloading filelock-3.15.4-py3-none-any.whl (16 kB)\r\n",
      "Installing collected packages: pydantic-core, jiter, h11, fsspec, filelock, distro, annotated-types, pydantic, huggingface-hub, httpcore, tokenizers, httpx, anthropic\r\n",
      "Successfully installed annotated-types-0.7.0 anthropic-0.34.1 distro-1.9.0 filelock-3.15.4 fsspec-2024.6.1 h11-0.14.0 httpcore-1.0.5 httpx-0.27.2 huggingface-hub-0.24.6 jiter-0.5.0 pydantic-2.8.2 pydantic-core-2.20.1 tokenizers-0.20.0\r\n"
     ]
    }
   ],
   "execution_count": 1
  },
  {
   "metadata": {},
   "cell_type": "code",
   "outputs": [],
   "execution_count": null,
   "source": "",
   "id": "6a2d460e6d9d4bbe"
  }
 ],
 "metadata": {
  "kernelspec": {
   "display_name": "Python 3",
   "language": "python",
   "name": "python3"
  },
  "language_info": {
   "codemirror_mode": {
    "name": "ipython",
    "version": 2
   },
   "file_extension": ".py",
   "mimetype": "text/x-python",
   "name": "python",
   "nbconvert_exporter": "python",
   "pygments_lexer": "ipython2",
   "version": "2.7.6"
  }
 },
 "nbformat": 4,
 "nbformat_minor": 5
}
